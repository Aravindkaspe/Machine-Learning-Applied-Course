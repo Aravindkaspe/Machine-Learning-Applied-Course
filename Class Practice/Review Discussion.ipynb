{
 "cells": [
  {
   "cell_type": "code",
   "execution_count": 1,
   "id": "0b2a068c",
   "metadata": {},
   "outputs": [],
   "source": [
    "import pandas as pd"
   ]
  },
  {
   "cell_type": "code",
   "execution_count": 2,
   "id": "ca830668",
   "metadata": {},
   "outputs": [],
   "source": [
    "data = pd.read_csv(\"School_Neighborhood_Poverty_Estimates_-_Current.csv\")\n",
    "data =data.head(1000)\n",
    "data['LAT'] = data['LAT'].astype(int)\n",
    "X = data[['IPR_EST','IPR_SE']]\n",
    "y = data['LAT']"
   ]
  },
  {
   "cell_type": "code",
   "execution_count": 3,
   "id": "a00df91f",
   "metadata": {},
   "outputs": [
    {
     "name": "stderr",
     "output_type": "stream",
     "text": [
      "C:\\Users\\Aravind Kaspe\\Anaconda 3\\Lib\\site-packages\\sklearn\\svm\\_classes.py:32: FutureWarning: The default value of `dual` will change from `True` to `'auto'` in 1.5. Set the value of `dual` explicitly to suppress the warning.\n",
      "  warnings.warn(\n",
      "C:\\Users\\Aravind Kaspe\\Anaconda 3\\Lib\\site-packages\\sklearn\\svm\\_base.py:1242: ConvergenceWarning: Liblinear failed to converge, increase the number of iterations.\n",
      "  warnings.warn(\n"
     ]
    }
   ],
   "source": [
    "import matplotlib.pyplot as plt\n",
    "from sklearn import svm\n",
    "\n",
    "C=1.0\n",
    "# svc with linear function\n",
    "svc =svm.SVC(kernel='linear', C=C).fit(X,y)\n",
    "# Linearsvc\n",
    "lin_svc =svm.LinearSVC(C=C).fit(X,y)\n",
    "# svc with RBF kernel\n",
    "rbf_svc =svm.SVC(kernel='rbf', gamma=0.7, C=C).fit(X,y)\n",
    "# svc with polynomial kernel for degree>1\n",
    "poly_svc=svm.SVC(kernel='poly',degree=3, C=C).fit(X,y)"
   ]
  },
  {
   "cell_type": "code",
   "execution_count": 4,
   "id": "09d9ecf6",
   "metadata": {},
   "outputs": [
    {
     "name": "stderr",
     "output_type": "stream",
     "text": [
      "C:\\Users\\Aravind Kaspe\\Anaconda 3\\Lib\\site-packages\\sklearn\\svm\\_classes.py:32: FutureWarning: The default value of `dual` will change from `True` to `'auto'` in 1.5. Set the value of `dual` explicitly to suppress the warning.\n",
      "  warnings.warn(\n"
     ]
    },
    {
     "data": {
      "text/plain": [
       "{'Linear': 0.3625,\n",
       " 'LinearSVC': 0.3475,\n",
       " 'SVC (RBF Kernel)': 0.37,\n",
       " 'SVC (Polynomial Kernel)': 0.3375}"
      ]
     },
     "execution_count": 4,
     "metadata": {},
     "output_type": "execute_result"
    }
   ],
   "source": [
    "from sklearn.model_selection import train_test_split\n",
    "from sklearn.preprocessing import StandardScaler\n",
    "from sklearn.svm import SVC, LinearSVC\n",
    "from sklearn.metrics import accuracy_score\n",
    "import pandas as pd\n",
    "import numpy as np\n",
    "\n",
    "# Convert data to DataFrame\n",
    "df = data\n",
    "\n",
    "# Selecting features and target variable\n",
    "X = data[['IPR_EST','IPR_SE']]\n",
    "y = data['LAT']\n",
    "\n",
    "# Splitting the dataset into training and testing sets\n",
    "X_train, X_test, y_train, y_test = train_test_split(X, y, test_size=0.4, random_state=42)\n",
    "\n",
    "# Feature scaling\n",
    "scaler = StandardScaler()\n",
    "X_train_scaled = scaler.fit_transform(X_train)\n",
    "X_test_scaled = scaler.transform(X_test)\n",
    "\n",
    "# Training and evaluating models\n",
    "models = {\n",
    "    'Linear' : SVC(kernel='linear'),\n",
    "    'LinearSVC': LinearSVC(max_iter=10000),\n",
    "    'SVC (RBF Kernel)': SVC(kernel='rbf'),\n",
    "    'SVC (Polynomial Kernel)': SVC(kernel='poly')\n",
    "}\n",
    "\n",
    "# Dictionary to hold accuracy scores\n",
    "accuracy_scores = {}\n",
    "\n",
    "for name, model in models.items():\n",
    "    model.fit(X_train_scaled, y_train)\n",
    "    y_pred = model.predict(X_test_scaled)\n",
    "    accuracy_scores[name] = accuracy_score(y_test, y_pred)\n",
    "\n",
    "accuracy_scores"
   ]
  },
  {
   "cell_type": "markdown",
   "id": "8243fc6c",
   "metadata": {},
   "source": [
    "Interpretation: "
   ]
  },
  {
   "cell_type": "markdown",
   "id": "9352dea1",
   "metadata": {},
   "source": [
    "The above model prediction shows the accuracy scores for different models trained to predict the latitude ('LAT') of a location based on 'IPR_EST' and 'IPR_SE'. The models evaluated include:\n",
    "\n",
    "Linear SVC with a linear kernel: Achieved an accuracy score of 0.3625.\n",
    "\n",
    "LinearSVC: Achieved an accuracy score of 0.3475.\n",
    "\n",
    "SVC with RBF (Radial Basis Function) kernel: Achieved the highest accuracy score of 0.37.\n",
    "\n",
    "SVC with Polynomial kernel: Had the lowest accuracy score of 0.3375.\n",
    "\n",
    "These accuracy scores reflect the proportion of correctly predicted latitudes out of all predictions made by each model on the test set. The scores are relatively close to each other, suggesting that there isn't a significant difference in the performance of these models for this particular task, under the configurations and dataset used."
   ]
  }
 ],
 "metadata": {
  "kernelspec": {
   "display_name": "Python 3 (ipykernel)",
   "language": "python",
   "name": "python3"
  },
  "language_info": {
   "codemirror_mode": {
    "name": "ipython",
    "version": 3
   },
   "file_extension": ".py",
   "mimetype": "text/x-python",
   "name": "python",
   "nbconvert_exporter": "python",
   "pygments_lexer": "ipython3",
   "version": "3.11.5"
  }
 },
 "nbformat": 4,
 "nbformat_minor": 5
}
