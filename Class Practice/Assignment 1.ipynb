{
 "cells": [
  {
   "cell_type": "code",
   "execution_count": 1,
   "id": "819bf7bc",
   "metadata": {},
   "outputs": [
    {
     "name": "stdout",
     "output_type": "stream",
     "text": [
      "[2 4 1 6 7 9 2 1 5 3]\n"
     ]
    }
   ],
   "source": [
    "import numpy as np\n",
    "A=[2,4,1,6,7,9,2,1,5,3]\n",
    "vector=np.array(A)\n",
    "print(vector)"
   ]
  },
  {
   "cell_type": "code",
   "execution_count": 3,
   "id": "a36b13de",
   "metadata": {},
   "outputs": [
    {
     "name": "stdout",
     "output_type": "stream",
     "text": [
      "Mean: 4.0\n",
      "Sample standard deviation:  2.569046515733026\n"
     ]
    }
   ],
   "source": [
    "# Calculating the mean of the vector A\n",
    "mean_A = np.mean(A)\n",
    "\n",
    "# Calculating the standard deviation of the vector A\n",
    "sample_std = np.std(vector)\n",
    "\n",
    "# Prints the mean and standard deviation\n",
    "print(\"Mean:\", mean_A)\n",
    "print('Sample standard deviation: ', sample_std)\n"
   ]
  },
  {
   "cell_type": "code",
   "execution_count": null,
   "id": "4e3dd7c7",
   "metadata": {},
   "outputs": [],
   "source": []
  }
 ],
 "metadata": {
  "kernelspec": {
   "display_name": "Python 3 (ipykernel)",
   "language": "python",
   "name": "python3"
  },
  "language_info": {
   "codemirror_mode": {
    "name": "ipython",
    "version": 3
   },
   "file_extension": ".py",
   "mimetype": "text/x-python",
   "name": "python",
   "nbconvert_exporter": "python",
   "pygments_lexer": "ipython3",
   "version": "3.11.5"
  }
 },
 "nbformat": 4,
 "nbformat_minor": 5
}
